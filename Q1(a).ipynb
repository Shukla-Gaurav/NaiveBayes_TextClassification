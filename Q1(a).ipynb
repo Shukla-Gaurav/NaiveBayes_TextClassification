{
 "cells": [
  {
   "cell_type": "code",
   "execution_count": 1,
   "metadata": {},
   "outputs": [
    {
     "name": "stdout",
     "output_type": "stream",
     "text": [
      "done\n"
     ]
    }
   ],
   "source": [
    "import utils as utility\n",
    "import numpy as np\n",
    "import pickle\n",
    "\n",
    "docs =  utility.json_reader('train.json')\n",
    "stars = np.zeros(5)\n",
    "\n",
    "class_frequency = {}\n",
    "count = 0\n",
    "all_words = []\n",
    "for doc in docs:\n",
    "#     count = count + 1\n",
    "#     if count > 10:\n",
    "#         break\n",
    "    root_words = utility.getStemmedDocuments(doc['text'])\n",
    "    #print(root_words)\n",
    "    \n",
    "    star = int(doc['stars'])\n",
    "    stars[star-1] += 1\n",
    "    for word in set(root_words):\n",
    "        if word not in class_frequency:\n",
    "            all_words.append(word)\n",
    "            class_frequency[word] = np.ones(5)\n",
    "        class_frequency[word][star-1] += 1\n",
    "            \n",
    "#print(class_frequency)\n",
    "#print(all_words)\n",
    "\n",
    "frequency_matrix = np.array([class_frequency[i] for i in all_words])\n",
    "\n",
    "file_name = \"probability_data\"\n",
    "# open the file for writing\n",
    "obj_writer = open(file_name,'wb') \n",
    "pickle.dump(frequency_matrix,obj_writer)   \n",
    "obj_writer.close()\n",
    "\n",
    "print('done')"
   ]
  },
  {
   "cell_type": "code",
   "execution_count": 2,
   "metadata": {},
   "outputs": [
    {
     "data": {
      "text/plain": [
       "array([[5.700e+01, 5.200e+01, 1.020e+02, 1.810e+02, 1.540e+02],\n",
       "       [9.110e+02, 3.560e+02, 4.130e+02, 7.680e+02, 1.367e+03],\n",
       "       [1.120e+02, 6.600e+01, 1.120e+02, 1.290e+02, 1.120e+02],\n",
       "       ...,\n",
       "       [1.000e+00, 1.000e+00, 1.000e+00, 2.000e+00, 1.000e+00],\n",
       "       [1.000e+00, 1.000e+00, 1.000e+00, 2.000e+00, 1.000e+00],\n",
       "       [1.000e+00, 1.000e+00, 1.000e+00, 2.000e+00, 1.000e+00]])"
      ]
     },
     "execution_count": 2,
     "metadata": {},
     "output_type": "execute_result"
    }
   ],
   "source": [
    "# we open the file for reading\n",
    "obj_reader = open(file_name,'rb')  \n",
    "frequency_matrix_read = pickle.load(obj_reader)  \n",
    "obj_reader.close()\n",
    "frequency_matrix_read "
   ]
  }
 ],
 "metadata": {
  "kernelspec": {
   "display_name": "Python 3",
   "language": "python",
   "name": "python3"
  },
  "language_info": {
   "codemirror_mode": {
    "name": "ipython",
    "version": 3
   },
   "file_extension": ".py",
   "mimetype": "text/x-python",
   "name": "python",
   "nbconvert_exporter": "python",
   "pygments_lexer": "ipython3",
   "version": "3.6.7"
  }
 },
 "nbformat": 4,
 "nbformat_minor": 2
}
